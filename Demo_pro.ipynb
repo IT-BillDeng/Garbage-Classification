{
 "cells": [
  {
   "cell_type": "markdown",
   "metadata": {},
   "source": [
    "Please check if CUDA on your device is available."
   ]
  },
  {
   "cell_type": "code",
   "execution_count": null,
   "metadata": {},
   "outputs": [],
   "source": [
    "import torch\n",
    "print(torch.__version__)\n",
    "print(torch.cuda.is_available())"
   ]
  },
  {
   "cell_type": "code",
   "execution_count": null,
   "metadata": {},
   "outputs": [],
   "source": [
    "%load_ext autoreload\n",
    "%autoreload 2\n",
    "import os\n",
    "import torch as t\n",
    "from utils.config import opt\n",
    "from model import FasterRCNNVGG16\n",
    "from trainer import FasterRCNNTrainer\n",
    "from data.util import  read_image\n",
    "from utils.vis_tool import vis_bbox\n",
    "from utils import array_tool as at\n",
    "from train import train\n",
    "from Test import test\n",
    "%matplotlib inline"
   ]
  },
  {
   "cell_type": "markdown",
   "metadata": {},
   "source": [
    "To use Visdom, please run the codes below in cmd and visit http://localhost:8097 in your browser.\n",
    "\n",
    "python -m visdom.server"
   ]
  },
  {
   "cell_type": "markdown",
   "metadata": {},
   "source": [
    "If you'd like to train for a new one, set **load_path** = None in utils/config.py"
   ]
  },
  {
   "cell_type": "code",
   "execution_count": null,
   "metadata": {},
   "outputs": [],
   "source": [
    "train()"
   ]
  },
  {
   "cell_type": "markdown",
   "metadata": {},
   "source": [
    "You'll need to download pretrained model from [BaiduDisk](https://pan.baidu.com/s/12NLSy-7zsNpuYNoeJjj_wA) with password：b02h"
   ]
  },
  {
   "cell_type": "code",
   "execution_count": null,
   "metadata": {},
   "outputs": [],
   "source": [
    "test()"
   ]
  },
  {
   "cell_type": "markdown",
   "metadata": {},
   "source": [
    "Following is a sample to show a demo of some images."
   ]
  },
  {
   "cell_type": "code",
   "execution_count": null,
   "metadata": {},
   "outputs": [],
   "source": [
    "faster_rcnn = FasterRCNNVGG16()\n",
    "trainer = FasterRCNNTrainer(faster_rcnn).cuda()"
   ]
  },
  {
   "cell_type": "code",
   "execution_count": null,
   "metadata": {},
   "outputs": [],
   "source": [
    "trainer.load(opt.load_path)\r\n",
    "demo_path = 'demo'\r\n",
    "img_list = os.listdir(demo_path)\r\n",
    "imgs = list()\r\n",
    "for filename in img_list:\r\n",
    "    img = read_image(demo_path + '/' + filename, color=True)\r\n",
    "    img = t.from_numpy(img)\r\n",
    "    imgs.append(img)\r\n",
    "_bboxes, _labels, _scores = trainer.faster_rcnn.predict(imgs, visualize=True)\r\n",
    "# print(_bboxes, _labels, _scores)\r\n",
    "for i in range(len(imgs)):\r\n",
    "    vis_bbox(at.tonumpy(imgs[i]),\r\n",
    "            at.tonumpy(_bboxes[i]),\r\n",
    "            at.tonumpy(_labels[i]).reshape(-1),\r\n",
    "            at.tonumpy(_scores[i]).reshape(-1))"
   ]
  }
 ],
 "metadata": {
  "interpreter": {
   "hash": "13fdf25ef2beee923e1f1011635d38d6ce68fb2882c6a64f76de1420ab9cc9f4"
  },
  "kernelspec": {
   "display_name": "Python 3.9.0 64-bit",
   "name": "python3"
  },
  "language_info": {
   "codemirror_mode": {
    "name": "ipython",
    "version": 3
   },
   "file_extension": ".py",
   "mimetype": "text/x-python",
   "name": "python",
   "nbconvert_exporter": "python",
   "pygments_lexer": "ipython3",
   "version": "3.9.0"
  },
  "metadata": {
   "interpreter": {
    "hash": "13fdf25ef2beee923e1f1011635d38d6ce68fb2882c6a64f76de1420ab9cc9f4"
   }
  }
 },
 "nbformat": 4,
 "nbformat_minor": 2
}